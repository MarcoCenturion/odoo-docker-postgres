{
 "cells": [
  {
   "cell_type": "code",
   "execution_count": 1,
   "id": "1d566263",
   "metadata": {},
   "outputs": [],
   "source": [
    "# Importar bibliotecas\n",
    "import pyperclip as clip\n",
    "import re"
   ]
  },
  {
   "cell_type": "code",
   "execution_count": 5,
   "id": "13865051",
   "metadata": {},
   "outputs": [
    {
     "name": "stdout",
     "output_type": "stream",
     "text": [
      "['\\n', '\\n', '\\n', 'FXZ\\n', '\\n', '01 P1\\n', 'SELECTED RECOMMENDATION SUCCESSFULLY BOOKED\\n', 'LAST TKT DTE 30SEP22 - SEE ADV PURCHASE\\n', '------------------------------------------------------------\\n', '     AL FLGT  BK T DATE  TIME  FARE BASIS      NVB  NVA   BG\\n', ' BUE\\n', 'XLIM LA  2368 Q  Q 10DEC 1935  QLWSLHWI        10DEC10DEC 2P\\n', ' MIA LA  2480 Q  Q 11DEC 0015  QLWSLHWI        11DEC11DEC 2P\\n', ' NYC B6   202 U  U 18DEC 0730  UI2AUEY5        18DEC18DEC 2P\\n', 'XLIM LA   531 L  L 26DEC 2205  LHXSL00I        26DEC26DEC 0P\\n', ' BUE LA  2432 L  L 27DEC 0835  LHXSL00I        27DEC27DEC 0P\\n', '\\n', 'USD  1233.00      10DEC22BUE LA X/LIM LA MIA M425.00B6\\n', 'ARS188649.00      NYC115.35LA X/LIM LA BUE\\n', 'ARS 13205.40AR    M692.50NUC1232.85END ROE1.000000\\n', 'ARS 56594.70O5    XT ARS 84892.10Q1 ARS 1530.00QO ARS\\n', 'ARS108097.60XT    1224.00TQ ARS 8721.00XR ARS 1713.60AY ARS\\n', 'ARS366546.70      3014.10US ARS 3014.10US ARS 605.90XA ARS\\n', '                  1071.00XY ARS 934.80YC ARS 1377.00XF\\n', '>                                                 PAGE  1/ 2\\n', '\\n', '>\\n', '\\n', 'M\\n', '\\n', 'RATE USED 1USD=153.000000ARS\\n', 'FARE FAMILIES:    (ENTER FQFn FOR DETAILS, FXY FOR UPSELL)\\n', 'FARE FAMILY:FC1:1-2:SL\\n', 'FARE FAMILY:FC2:4-5:SL\\n', 'FARE FAMILY:FC3:3:AN\\n', 'NO BAG INCLUDED FOR AT LEAST ONE FLIGHT\\n', 'TICKET STOCK RESTRICTION\\n', 'BG CXR: LA\\n', 'PRICED WITH VALIDATING CARRIER LA - REPRICE IF DIFFERENT VC\\n', 'NON-REFUNDABLE\\n', 'NONEND-REF/CHG SEE PENALTY -BG:LA\\n', '>                                                 PAGE  2/ 2\\n', '\\n', '>\\n', '\\n', 'RT\\n', '\\n', '--- MSC SFP ---\\n', 'RP/CORG12146/\\n', '  1  LA2368 Q 10DEC 6*EZELIM DK1  1935 2225  10DEC  E  0 320 M\\n', '     010 DL 6086\\n', '     101 WPRYBHKMLVXSNQOGTAE\\n', '     127 LATAM AIRLINES PERU\\n', '     OPERATED BY SUBSIDIARY/FRANCHISE\\n', '     SEE RTSVC\\n', '  2  LA2480 Q 11DEC 7*LIMMIA DK1  0015 0605  11DEC  E  0 763 M\\n', '     010 DL 7375\\n', '     127 LATAM AIRLINES PERU\\n', '     OPERATED BY SUBSIDIARY/FRANCHISE\\n', '     SEE RTSVC\\n', '  3  B6 202 U 18DEC 7 MIAJFK DK1  0730 1021  18DEC  E  0 320\\n', '     010 QR 4133\\n', '     SEE RTSVC\\n', '  4  LA 531 L 26DEC 1*JFKLIM DK1  2205 0600  27DEC  E  0 788 DB\\n', '     010 CX 7821\\n', '     010 DL 6021\\n', '     SEE RTSVC\\n', '  5  LA2432 L 27DEC 2*LIMAEP DK1  0835 1500  27DEC  E  0 320 B\\n', '     101 WPRYBHKMLVXSNQOGTAE\\n', '     127 LATAM AIRLINES PERU\\n', ')>\\n', '\\n']\n"
     ]
    }
   ],
   "source": [
    "texto = open(r'tramos_internacional.txt')\n",
    "print(texto.readlines())"
   ]
  },
  {
   "cell_type": "code",
   "execution_count": 8,
   "id": "9b0c35da",
   "metadata": {},
   "outputs": [],
   "source": [
    "# En producción vamos a pegar con clip.paste() el contenido del portapapeles del sistema en este txt que tenemos de prueba\n",
    "\n",
    "tst_amadeus = texto"
   ]
  },
  {
   "cell_type": "code",
   "execution_count": 10,
   "id": "305f753b",
   "metadata": {},
   "outputs": [
    {
     "ename": "TypeError",
     "evalue": "expected string or bytes-like object",
     "output_type": "error",
     "traceback": [
      "\u001b[0;31m---------------------------------------------------------------------------\u001b[0m",
      "\u001b[0;31mTypeError\u001b[0m                                 Traceback (most recent call last)",
      "Input \u001b[0;32mIn [10]\u001b[0m, in \u001b[0;36m<cell line: 1>\u001b[0;34m()\u001b[0m\n\u001b[0;32m----> 1\u001b[0m route\u001b[38;5;241m=\u001b[39m\u001b[43mre\u001b[49m\u001b[38;5;241;43m.\u001b[39;49m\u001b[43mfindall\u001b[49m\u001b[43m(\u001b[49m\u001b[38;5;124;43mr\u001b[39;49m\u001b[38;5;124;43m'\u001b[39;49m\u001b[38;5;124;43m^\u001b[39;49m\u001b[38;5;124;43m\\\u001b[39;49m\u001b[38;5;124;43ms\u001b[39;49m\u001b[38;5;132;43;01m{2}\u001b[39;49;00m\u001b[38;5;124;43m\\\u001b[39;49m\u001b[38;5;124;43md\u001b[39;49m\u001b[38;5;132;43;01m{1}\u001b[39;49;00m\u001b[38;5;124;43m\\\u001b[39;49m\u001b[38;5;124;43ms\u001b[39;49m\u001b[38;5;132;43;01m{2}\u001b[39;49;00m\u001b[38;5;124;43m\\\u001b[39;49m\u001b[38;5;124;43mw\u001b[39;49m\u001b[38;5;132;43;01m{2}\u001b[39;49;00m\u001b[38;5;124;43m.\u001b[39;49m\u001b[38;5;132;43;01m{55}\u001b[39;49;00m\u001b[38;5;124;43m'\u001b[39;49m\u001b[43m,\u001b[49m\u001b[43mtst_amadeus\u001b[49m\u001b[43m)\u001b[49m\n",
      "File \u001b[0;32m/usr/lib/python3.10/re.py:240\u001b[0m, in \u001b[0;36mfindall\u001b[0;34m(pattern, string, flags)\u001b[0m\n\u001b[1;32m    232\u001b[0m \u001b[38;5;28;01mdef\u001b[39;00m \u001b[38;5;21mfindall\u001b[39m(pattern, string, flags\u001b[38;5;241m=\u001b[39m\u001b[38;5;241m0\u001b[39m):\n\u001b[1;32m    233\u001b[0m     \u001b[38;5;124;03m\"\"\"Return a list of all non-overlapping matches in the string.\u001b[39;00m\n\u001b[1;32m    234\u001b[0m \n\u001b[1;32m    235\u001b[0m \u001b[38;5;124;03m    If one or more capturing groups are present in the pattern, return\u001b[39;00m\n\u001b[0;32m   (...)\u001b[0m\n\u001b[1;32m    238\u001b[0m \n\u001b[1;32m    239\u001b[0m \u001b[38;5;124;03m    Empty matches are included in the result.\"\"\"\u001b[39;00m\n\u001b[0;32m--> 240\u001b[0m     \u001b[38;5;28;01mreturn\u001b[39;00m \u001b[43m_compile\u001b[49m\u001b[43m(\u001b[49m\u001b[43mpattern\u001b[49m\u001b[43m,\u001b[49m\u001b[43m \u001b[49m\u001b[43mflags\u001b[49m\u001b[43m)\u001b[49m\u001b[38;5;241;43m.\u001b[39;49m\u001b[43mfindall\u001b[49m\u001b[43m(\u001b[49m\u001b[43mstring\u001b[49m\u001b[43m)\u001b[49m\n",
      "\u001b[0;31mTypeError\u001b[0m: expected string or bytes-like object"
     ]
    }
   ],
   "source": [
    "route=re.findall(r'^\\s{2}\\d{1}\\s{2}\\w{2}.{55}',tst_amadeus, flags=re.M)"
   ]
  },
  {
   "cell_type": "code",
   "execution_count": null,
   "id": "a70e5a3a",
   "metadata": {},
   "outputs": [],
   "source": []
  }
 ],
 "metadata": {
  "kernelspec": {
   "display_name": "Python 3 (ipykernel)",
   "language": "python",
   "name": "python3"
  },
  "language_info": {
   "codemirror_mode": {
    "name": "ipython",
    "version": 3
   },
   "file_extension": ".py",
   "mimetype": "text/x-python",
   "name": "python",
   "nbconvert_exporter": "python",
   "pygments_lexer": "ipython3",
   "version": "3.10.6"
  }
 },
 "nbformat": 4,
 "nbformat_minor": 5
}
